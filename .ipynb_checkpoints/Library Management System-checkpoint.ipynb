{
 "cells": [
  {
   "cell_type": "markdown",
   "metadata": {},
   "source": [
    "### Import Spark Session"
   ]
  },
  {
   "cell_type": "code",
   "execution_count": 1,
   "metadata": {},
   "outputs": [],
   "source": [
    "from pyspark.sql import SparkSession\n",
    "from pyspark.sql import functions as F "
   ]
  },
  {
   "cell_type": "markdown",
   "metadata": {},
   "source": [
    "### Start a simple Spark Session"
   ]
  },
  {
   "cell_type": "code",
   "execution_count": 2,
   "metadata": {},
   "outputs": [],
   "source": [
    "spark = SparkSession.builder \\\n",
    "    .master('local') \\\n",
    "    .enableHiveSupport()\\\n",
    "    .appName('LibraryManagement') \\\n",
    "    .getOrCreate()"
   ]
  },
  {
   "cell_type": "markdown",
   "metadata": {},
   "source": [
    "### Créer les données\n",
    "* Author"
   ]
  },
  {
   "cell_type": "code",
   "execution_count": 3,
   "metadata": {},
   "outputs": [
    {
     "name": "stdout",
     "output_type": "stream",
     "text": [
      "+-----+-----------------+\n",
      "|  aid|             name|\n",
      "+-----+-----------------+\n",
      "|07890| Jean Paul Sartre|\n",
      "|05678|Pierre de Ronsard|\n",
      "+-----+-----------------+\n",
      "\n"
     ]
    }
   ],
   "source": [
    "lst1 = [('07890','Jean Paul Sartre'),\n",
    "        ('05678','Pierre de Ronsard')]\n",
    "rdd1 = spark.sparkContext.parallelize(lst1) ## On obtient un RDD\n",
    "author = rdd1.toDF(['aid','name'])\n",
    "author.show()"
   ]
  },
  {
   "cell_type": "markdown",
   "metadata": {},
   "source": [
    "* Book"
   ]
  },
  {
   "cell_type": "code",
   "execution_count": 4,
   "metadata": {},
   "outputs": [
    {
     "name": "stdout",
     "output_type": "stream",
     "text": [
      "+----+--------------------+-----------+\n",
      "| bid|               title|   category|\n",
      "+----+--------------------+-----------+\n",
      "|0001|L'existentialisme...|Philosophie|\n",
      "|0002|Huis clos. Suivi ...|Philosophie|\n",
      "|0003|Mignonne allons v...|      Poeme|\n",
      "|0004|          Les Amours|      Poème|\n",
      "+----+--------------------+-----------+\n",
      "\n"
     ]
    }
   ],
   "source": [
    "lst2 = [('0001',\"L'existentialisme est un humanisme\",'Philosophie'),\n",
    "        ('0002','Huis clos. Suivi de Les Mouches','Philosophie'),\n",
    "        ('0003','Mignonne allons voir si la rose','Poeme'),\n",
    "        ('0004','Les Amours','Poème')]\n",
    "rdd2 = spark.sparkContext.parallelize(lst2)\n",
    "book = rdd2.toDF(['bid','title','category'])\n",
    "book.show()"
   ]
  },
  {
   "cell_type": "markdown",
   "metadata": {},
   "source": [
    "* Student"
   ]
  },
  {
   "cell_type": "code",
   "execution_count": 5,
   "metadata": {},
   "outputs": [
    {
     "name": "stdout",
     "output_type": "stream",
     "text": [
      "+---+-----+---------+\n",
      "|sid|sname|     dept|\n",
      "+---+-----+---------+\n",
      "|S15| toto|     Math|\n",
      "|S16| popo|      Eco|\n",
      "|S17| fofo|Mécanique|\n",
      "+---+-----+---------+\n",
      "\n"
     ]
    }
   ],
   "source": [
    "lst3 = [('S15','toto','Math'),\n",
    "        ('S16','popo','Eco'),\n",
    "        ('S17','fofo','Mécanique')]\n",
    "rdd3 = spark.sparkContext.parallelize(lst3)\n",
    "student = rdd3.toDF(['sid','sname','dept'])\n",
    "student.show()"
   ]
  },
  {
   "cell_type": "markdown",
   "metadata": {},
   "source": [
    "* Write"
   ]
  },
  {
   "cell_type": "code",
   "execution_count": 6,
   "metadata": {},
   "outputs": [
    {
     "name": "stdout",
     "output_type": "stream",
     "text": [
      "+-----+----+\n",
      "|  aid| bid|\n",
      "+-----+----+\n",
      "|07890|0001|\n",
      "|07890|0002|\n",
      "|05678|0003|\n",
      "|05678|0003|\n",
      "+-----+----+\n",
      "\n"
     ]
    }
   ],
   "source": [
    "lst4 = [('07890','0001'),\n",
    "        ('07890','0002'),\n",
    "        ('05678','0003'),\n",
    "       ('05678','0003')]\n",
    "rdd4 = spark.sparkContext.parallelize(lst4)\n",
    "write = rdd4.toDF(['aid','bid'])\n",
    "write.show()"
   ]
  },
  {
   "cell_type": "markdown",
   "metadata": {},
   "source": [
    "* Borrow"
   ]
  },
  {
   "cell_type": "code",
   "execution_count": 7,
   "metadata": {},
   "outputs": [
    {
     "name": "stdout",
     "output_type": "stream",
     "text": [
      "+---+----+-------------+-----------+\n",
      "|sid| bid|checkout-time|return-time|\n",
      "+---+----+-------------+-----------+\n",
      "|S15|0003|   02-01-2020| 01-02-2020|\n",
      "|S15|0002|   13-06-2020|       null|\n",
      "|S15|0001|   13-06-2020| 13-10-2020|\n",
      "|S16|0002|   24-01-2020| 24-01-2020|\n",
      "|S17|0001|   12-04-2020| 01-07-2020|\n",
      "+---+----+-------------+-----------+\n",
      "\n"
     ]
    }
   ],
   "source": [
    "lst5 = [('S15','0003','02-01-2020','01-02-2020'),\n",
    "        ('S15','0002','13-06-2020',None),\n",
    "        ('S15','0001','13-06-2020','13-10-2020'),\n",
    "        ('S16','0002','24-01-2020', '24-01-2020'),\n",
    "        ('S17','0001','12-04-2020','01-07-2020')]\n",
    "rdd5 = spark.sparkContext.parallelize(lst5)\n",
    "borrow = rdd5.toDF(['sid','bid','checkout-time','return-time'])\n",
    "borrow.show()"
   ]
  },
  {
   "cell_type": "markdown",
   "metadata": {},
   "source": [
    "### Créer une copie des tables SQL"
   ]
  },
  {
   "cell_type": "code",
   "execution_count": 8,
   "metadata": {},
   "outputs": [],
   "source": [
    "author.createOrReplaceTempView(\"authorSQL\")\n",
    "book.createOrReplaceTempView(\"bookSQL\")\n",
    "student.createOrReplaceTempView(\"studentSQL\")\n",
    "write.createOrReplaceTempView(\"writeSQL\")\n",
    "borrow.createOrReplaceTempView(\"borrowSQL\")"
   ]
  },
  {
   "cell_type": "markdown",
   "metadata": {},
   "source": [
    "### Les titres de tous les livres que l'étudiant sid='S15' a emprunté\n",
    "* DSL"
   ]
  },
  {
   "cell_type": "code",
   "execution_count": 9,
   "metadata": {},
   "outputs": [
    {
     "name": "stdout",
     "output_type": "stream",
     "text": [
      "+---+--------------------+\n",
      "|sid|               title|\n",
      "+---+--------------------+\n",
      "|S15|Huis clos. Suivi ...|\n",
      "|S15|Mignonne allons v...|\n",
      "|S15|L'existentialisme...|\n",
      "+---+--------------------+\n",
      "\n"
     ]
    }
   ],
   "source": [
    "book\\\n",
    "    .join(borrow,['bid'])\\\n",
    "    .join(student,['sid'])\\\n",
    "    .filter(F.col('sid')=='S15')\\\n",
    "    .select('sid','title')\\\n",
    "    .show()"
   ]
  },
  {
   "cell_type": "markdown",
   "metadata": {},
   "source": [
    "* SQL"
   ]
  },
  {
   "cell_type": "code",
   "execution_count": 10,
   "metadata": {},
   "outputs": [
    {
     "name": "stdout",
     "output_type": "stream",
     "text": [
      "+---+--------------------+\n",
      "|sid|               title|\n",
      "+---+--------------------+\n",
      "|S15|Huis clos. Suivi ...|\n",
      "|S15|Mignonne allons v...|\n",
      "|S15|L'existentialisme...|\n",
      "+---+--------------------+\n",
      "\n"
     ]
    }
   ],
   "source": [
    "spark.sql(\"\"\"\n",
    "    select C.sid, title\n",
    "    from bookSQL as A\n",
    "    join borrowSQL as B\n",
    "    on A.bid = B.bid\n",
    "    join studentSQL as C\n",
    "    on B.sid = C.sid\n",
    "    where B.sid == \"S15\"\n",
    "\"\"\").show()"
   ]
  },
  {
   "cell_type": "markdown",
   "metadata": {},
   "source": [
    "###  Les titres de tous les livres qui n'ont jamais été empruntés par un étudiant"
   ]
  },
  {
   "cell_type": "markdown",
   "metadata": {},
   "source": [
    "* DSL"
   ]
  },
  {
   "cell_type": "code",
   "execution_count": 11,
   "metadata": {},
   "outputs": [
    {
     "name": "stdout",
     "output_type": "stream",
     "text": [
      "+----+----------+\n",
      "| sid|     title|\n",
      "+----+----------+\n",
      "|null|Les Amours|\n",
      "+----+----------+\n",
      "\n"
     ]
    }
   ],
   "source": [
    "book\\\n",
    "    .join(borrow,['bid'], how=\"full\")\\\n",
    "    .join(student,['sid'], how=\"full\")\\\n",
    "    .filter(F.col('sid').isNull())\\\n",
    "    .select('sid','title')\\\n",
    "    .show()"
   ]
  },
  {
   "cell_type": "markdown",
   "metadata": {},
   "source": [
    "* SQL"
   ]
  },
  {
   "cell_type": "code",
   "execution_count": 12,
   "metadata": {},
   "outputs": [
    {
     "name": "stdout",
     "output_type": "stream",
     "text": [
      "+----+----------+\n",
      "| sid|     title|\n",
      "+----+----------+\n",
      "|null|Les Amours|\n",
      "+----+----------+\n",
      "\n"
     ]
    }
   ],
   "source": [
    "spark.sql(\"\"\"\n",
    "    select B.sid, title\n",
    "    from bookSQL as A\n",
    "    full join borrowSQL as B\n",
    "    on A.bid = B.bid\n",
    "    full join studentSQL as C\n",
    "    on B.sid = C.sid\n",
    "    where B.sid is NULL\n",
    "\"\"\").show()"
   ]
  },
  {
   "cell_type": "markdown",
   "metadata": {},
   "source": [
    "### Tous les étudiants qui ont emprunté le livre bid=’0002’\n",
    "* DSL"
   ]
  },
  {
   "cell_type": "code",
   "execution_count": 13,
   "metadata": {},
   "outputs": [
    {
     "name": "stdout",
     "output_type": "stream",
     "text": [
      "+----+-----+\n",
      "| bid|sname|\n",
      "+----+-----+\n",
      "|0002| popo|\n",
      "|0002| toto|\n",
      "+----+-----+\n",
      "\n"
     ]
    }
   ],
   "source": [
    "book\\\n",
    "    .join(borrow,['bid'])\\\n",
    "    .join(student,['sid'])\\\n",
    "    .filter(F.col('bid')=='0002')\\\n",
    "    .select('bid','sname')\\\n",
    "    .show()"
   ]
  },
  {
   "cell_type": "markdown",
   "metadata": {},
   "source": [
    "* SQL"
   ]
  },
  {
   "cell_type": "code",
   "execution_count": 14,
   "metadata": {},
   "outputs": [
    {
     "name": "stdout",
     "output_type": "stream",
     "text": [
      "+----+-----+\n",
      "| bid|sname|\n",
      "+----+-----+\n",
      "|0002| popo|\n",
      "|0002| toto|\n",
      "+----+-----+\n",
      "\n"
     ]
    }
   ],
   "source": [
    "spark.sql(\"\"\"\n",
    "    select B.bid, sname\n",
    "    from bookSQL as A\n",
    "    join borrowSQL as B\n",
    "    on A.bid = B.bid\n",
    "    join studentSQL as C\n",
    "    on B.sid = C.sid\n",
    "    where B.bid == \"0002\"\n",
    "\"\"\").show()"
   ]
  },
  {
   "cell_type": "markdown",
   "metadata": {},
   "source": [
    "### Les titres de tous les livres empruntés par des étudiants en informatique (département informatique)\n",
    "* DSL"
   ]
  },
  {
   "cell_type": "code",
   "execution_count": 15,
   "metadata": {},
   "outputs": [
    {
     "name": "stdout",
     "output_type": "stream",
     "text": [
      "+---------+--------------------+\n",
      "|     dept|               title|\n",
      "+---------+--------------------+\n",
      "|Mécanique|L'existentialisme...|\n",
      "+---------+--------------------+\n",
      "\n"
     ]
    }
   ],
   "source": [
    "book\\\n",
    "    .join(borrow,['bid'])\\\n",
    "    .join(student,['sid'])\\\n",
    "    .filter(F.col('dept')=='Mécanique')\\\n",
    "    .select('dept','title')\\\n",
    "    .show()"
   ]
  },
  {
   "cell_type": "markdown",
   "metadata": {},
   "source": [
    "* SQL"
   ]
  },
  {
   "cell_type": "code",
   "execution_count": 16,
   "metadata": {},
   "outputs": [
    {
     "name": "stdout",
     "output_type": "stream",
     "text": [
      "+---------+--------------------+\n",
      "|     dept|               title|\n",
      "+---------+--------------------+\n",
      "|Mécanique|L'existentialisme...|\n",
      "+---------+--------------------+\n",
      "\n"
     ]
    }
   ],
   "source": [
    "spark.sql(\"\"\"\n",
    "    select C.dept, title\n",
    "    from bookSQL as A\n",
    "    join borrowSQL as B\n",
    "    on A.bid = B.bid\n",
    "    join studentSQL as C\n",
    "    on B.sid = C.sid\n",
    "    where C.dept == \"Mécanique\"\n",
    "\"\"\").show()"
   ]
  },
  {
   "cell_type": "markdown",
   "metadata": {},
   "source": [
    "### Les étudiants qui n’ont jamais emprunté de livre\n",
    "* DSL"
   ]
  },
  {
   "cell_type": "code",
   "execution_count": 17,
   "metadata": {},
   "outputs": [
    {
     "name": "stdout",
     "output_type": "stream",
     "text": [
      "+---+-----+\n",
      "|sid|sname|\n",
      "+---+-----+\n",
      "+---+-----+\n",
      "\n"
     ]
    }
   ],
   "source": [
    "book\\\n",
    "    .join(borrow,['bid'], how=\"full\")\\\n",
    "    .join(student,['sid'], how=\"full\")\\\n",
    "    .filter(F.col('bid').isNull())\\\n",
    "    .select('sid','sname')\\\n",
    "    .show()"
   ]
  },
  {
   "cell_type": "markdown",
   "metadata": {},
   "source": [
    "* SQL"
   ]
  },
  {
   "cell_type": "code",
   "execution_count": 18,
   "metadata": {},
   "outputs": [
    {
     "name": "stdout",
     "output_type": "stream",
     "text": [
      "+---+-----+\n",
      "|sid|sname|\n",
      "+---+-----+\n",
      "+---+-----+\n",
      "\n"
     ]
    }
   ],
   "source": [
    "spark.sql(\"\"\"\n",
    "    select B.sid, sname\n",
    "    from bookSQL as A\n",
    "    full join borrowSQL as B\n",
    "    on A.bid = B.bid\n",
    "    full join studentSQL as C\n",
    "    on B.sid = C.sid \n",
    "    where A.bid is NULL\n",
    "\"\"\").show()"
   ]
  },
  {
   "cell_type": "markdown",
   "metadata": {},
   "source": [
    "### L’auteur qui a écrit le plus de livres\n",
    "* DSL"
   ]
  },
  {
   "cell_type": "code",
   "execution_count": 19,
   "metadata": {
    "scrolled": true
   },
   "outputs": [
    {
     "name": "stdout",
     "output_type": "stream",
     "text": [
      "+-----------------+--------+\n",
      "|             name|nb_livre|\n",
      "+-----------------+--------+\n",
      "| Jean Paul Sartre|       2|\n",
      "|Pierre de Ronsard|       2|\n",
      "+-----------------+--------+\n",
      "\n"
     ]
    }
   ],
   "source": [
    "nb_livre = write\\\n",
    "            .join(author,['aid'])\\\n",
    "            .groupby('name')\\\n",
    "            .agg(F.count('aid').alias('nb_livre'))\n",
    "maximum = nb_livre.collect()[0]['nb_livre']\n",
    "nb_livre\\\n",
    "    .filter(F.col('nb_livre')==maximum)\\\n",
    "    .show()"
   ]
  },
  {
   "cell_type": "markdown",
   "metadata": {},
   "source": [
    "* SQL"
   ]
  },
  {
   "cell_type": "code",
   "execution_count": 20,
   "metadata": {
    "scrolled": true
   },
   "outputs": [
    {
     "name": "stdout",
     "output_type": "stream",
     "text": [
      "+-----------------+--------+\n",
      "|             name|nb_livre|\n",
      "+-----------------+--------+\n",
      "|Pierre de Ronsard|       2|\n",
      "| Jean Paul Sartre|       2|\n",
      "+-----------------+--------+\n",
      "\n"
     ]
    }
   ],
   "source": [
    "spark.sql(\"\"\"\n",
    "    create table livresSQL as \n",
    "    select name, nb_livre\n",
    "    from (\n",
    "        select name, count(A.aid) as nb_livre\n",
    "        from authorSQL as A\n",
    "        join writeSQL as B\n",
    "        on A.aid = B.aid\n",
    "        group by name\n",
    "        )\n",
    "\"\"\")\n",
    "spark.sql(\"\"\"\n",
    "    select * \n",
    "    from livresSQL \n",
    "    where nb_livre == (select max(nb_livre)\n",
    "                        from livresSQL)\n",
    "\"\"\").show()"
   ]
  },
  {
   "cell_type": "markdown",
   "metadata": {},
   "source": [
    "###  Les personnes qui n’ont pas encore rendu les livres\n",
    "* DSL"
   ]
  },
  {
   "cell_type": "code",
   "execution_count": 21,
   "metadata": {},
   "outputs": [
    {
     "name": "stdout",
     "output_type": "stream",
     "text": [
      "+---+-----+\n",
      "|sid|sname|\n",
      "+---+-----+\n",
      "|S15| toto|\n",
      "+---+-----+\n",
      "\n"
     ]
    }
   ],
   "source": [
    "borrow\\\n",
    "    .join(student,['sid'], how=\"full\")\\\n",
    "    .filter(F.col('return-time').isNull())\\\n",
    "    .select('sid','sname')\\\n",
    "    .distinct()\\\n",
    "    .show()"
   ]
  },
  {
   "cell_type": "markdown",
   "metadata": {},
   "source": [
    "* SQL"
   ]
  },
  {
   "cell_type": "code",
   "execution_count": 22,
   "metadata": {},
   "outputs": [
    {
     "name": "stdout",
     "output_type": "stream",
     "text": [
      "+---+-----+\n",
      "|sid|sname|\n",
      "+---+-----+\n",
      "|S15| toto|\n",
      "+---+-----+\n",
      "\n"
     ]
    }
   ],
   "source": [
    "spark.sql(\"\"\"\n",
    "    select distinct B.sid, sname\n",
    "    from borrowSQL as A\n",
    "    join studentSQL as B\n",
    "    on A.sid = B.sid\n",
    "    where A.`return-time` is NULL\n",
    "\"\"\").show()"
   ]
  },
  {
   "cell_type": "markdown",
   "metadata": {},
   "source": [
    "### Création d'une nouvelle colonne dans la table borrow qui prend la valeur 1, si la durée d'emprunt est supérieur à 3 mois,  sinon 0"
   ]
  },
  {
   "cell_type": "code",
   "execution_count": 23,
   "metadata": {},
   "outputs": [],
   "source": [
    "borrow = borrow\\\n",
    "    .withColumn(\"format\",F.lit(\"dd-MM-yyyy\"))\\\n",
    "    .withColumn(\"start\",F.expr(\"to_date(`checkout-time`, format)\"))\\\n",
    "    .withColumn(\"end\",F.expr(\"to_date(`return-time`, format)\"))\\\n",
    "    .withColumn(\"plus que 3 mois\", \n",
    "                F.when(F.months_between(F.col('end'),F.col('start'))>=3,1).\\\n",
    "                otherwise(0))\\\n",
    "    .drop('format','start','end')"
   ]
  },
  {
   "cell_type": "code",
   "execution_count": 24,
   "metadata": {},
   "outputs": [],
   "source": [
    "borrow\\\n",
    "    .write\\\n",
    "    .mode('overwrite')\\\n",
    "    .option(\"header\", \"true\")\\\n",
    "    .csv('contention')"
   ]
  },
  {
   "cell_type": "markdown",
   "metadata": {},
   "source": [
    "* SQL"
   ]
  },
  {
   "cell_type": "code",
   "execution_count": 25,
   "metadata": {},
   "outputs": [
    {
     "name": "stdout",
     "output_type": "stream",
     "text": [
      "+---+----+-------------+-----------+---------------+\n",
      "|sid| bid|checkout-time|return-time|plus que 3 mois|\n",
      "+---+----+-------------+-----------+---------------+\n",
      "|S15|0003|   02-01-2020| 01-02-2020|              0|\n",
      "|S15|0002|   13-06-2020|       null|              0|\n",
      "|S15|0001|   13-06-2020| 13-10-2020|              1|\n",
      "|S16|0002|   24-01-2020| 24-01-2020|              0|\n",
      "|S17|0001|   12-04-2020| 01-07-2020|              0|\n",
      "+---+----+-------------+-----------+---------------+\n",
      "\n"
     ]
    }
   ],
   "source": [
    "spark.sql(\"\"\"\n",
    "    select *, \n",
    "    case\n",
    "        when (months_between(to_date(`return-time`, 'dd-MM-yyyy'),\n",
    "                   to_date(`checkout-time`, 'dd-MM-yyyy')) >= 3) then 1\n",
    "        else 0\n",
    "    end as `plus que 3 mois`\n",
    "    from borrowSQL\n",
    "\"\"\").show()"
   ]
  },
  {
   "cell_type": "markdown",
   "metadata": {},
   "source": [
    "### Les livres qui n’ont jamais été empruntés\n",
    "* DSL"
   ]
  },
  {
   "cell_type": "code",
   "execution_count": 26,
   "metadata": {},
   "outputs": [
    {
     "name": "stdout",
     "output_type": "stream",
     "text": [
      "+----------+\n",
      "|     title|\n",
      "+----------+\n",
      "|Les Amours|\n",
      "+----------+\n",
      "\n"
     ]
    }
   ],
   "source": [
    "book\\\n",
    "    .join(borrow,['bid'], how='full')\\\n",
    "    .filter(F.col('sid').isNull())\\\n",
    "    .select('title')\\\n",
    "    .show()"
   ]
  },
  {
   "cell_type": "markdown",
   "metadata": {},
   "source": [
    "* SQL"
   ]
  },
  {
   "cell_type": "code",
   "execution_count": 27,
   "metadata": {},
   "outputs": [
    {
     "name": "stdout",
     "output_type": "stream",
     "text": [
      "+----------+\n",
      "|     title|\n",
      "+----------+\n",
      "|Les Amours|\n",
      "+----------+\n",
      "\n"
     ]
    }
   ],
   "source": [
    "spark.sql(\"\"\"\n",
    "    select A.title\n",
    "    from bookSQL as A\n",
    "    full join borrowSQL as B\n",
    "    on A.bid = B.bid\n",
    "    where B.sid is NULL\n",
    "\"\"\").show()"
   ]
  }
 ],
 "metadata": {
  "kernelspec": {
   "display_name": "Python 3",
   "language": "python",
   "name": "python3"
  },
  "language_info": {
   "codemirror_mode": {
    "name": "ipython",
    "version": 3
   },
   "file_extension": ".py",
   "mimetype": "text/x-python",
   "name": "python",
   "nbconvert_exporter": "python",
   "pygments_lexer": "ipython3",
   "version": "3.6.12"
  }
 },
 "nbformat": 4,
 "nbformat_minor": 4
}
